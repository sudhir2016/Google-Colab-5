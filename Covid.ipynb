{
  "nbformat": 4,
  "nbformat_minor": 0,
  "metadata": {
    "colab": {
      "name": "Covid.ipynb",
      "provenance": [],
      "collapsed_sections": [],
      "authorship_tag": "ABX9TyOIJarE4qbA/nQX+mSLdKRP",
      "include_colab_link": true
    },
    "kernelspec": {
      "name": "python3",
      "display_name": "Python 3"
    }
  },
  "cells": [
    {
      "cell_type": "markdown",
      "metadata": {
        "id": "view-in-github",
        "colab_type": "text"
      },
      "source": [
        "<a href=\"https://colab.research.google.com/github/sudhir2016/Google-Colab-5/blob/master/Covid.ipynb\" target=\"_parent\"><img src=\"https://colab.research.google.com/assets/colab-badge.svg\" alt=\"Open In Colab\"/></a>"
      ]
    },
    {
      "cell_type": "markdown",
      "metadata": {
        "id": "n1QNUsZM1Adt",
        "colab_type": "text"
      },
      "source": [
        "This a simple example of implementing Autoregressive Integrated Moving Average (ARIMA) model in Python and trying to predit COVID-19 cases in India for next 7 days."
      ]
    },
    {
      "cell_type": "markdown",
      "metadata": {
        "id": "iVdfnDp12MQq",
        "colab_type": "text"
      },
      "source": [
        "Install Pyramid ARIMA"
      ]
    },
    {
      "cell_type": "code",
      "metadata": {
        "colab_type": "code",
        "id": "hfU6zO690-__",
        "colab": {}
      },
      "source": [
        "! pip install pmdarima\n"
      ],
      "execution_count": 0,
      "outputs": []
    },
    {
      "cell_type": "markdown",
      "metadata": {
        "id": "uvL0DXsF2TdK",
        "colab_type": "text"
      },
      "source": [
        "Import pandas, numpy, matplotlib.pyplot and pmdamira. "
      ]
    },
    {
      "cell_type": "code",
      "metadata": {
        "id": "19AXUWi7cxJa",
        "colab_type": "code",
        "colab": {}
      },
      "source": [
        "import pandas as pd"
      ],
      "execution_count": 0,
      "outputs": []
    },
    {
      "cell_type": "code",
      "metadata": {
        "id": "1qmFSIxgsHVp",
        "colab_type": "code",
        "colab": {}
      },
      "source": [
        "import numpy as np"
      ],
      "execution_count": 0,
      "outputs": []
    },
    {
      "cell_type": "code",
      "metadata": {
        "id": "J6e7sWPbviH0",
        "colab_type": "code",
        "colab": {}
      },
      "source": [
        "import matplotlib.pyplot as plt"
      ],
      "execution_count": 0,
      "outputs": []
    },
    {
      "cell_type": "code",
      "metadata": {
        "id": "K5sB0Q9-K-Ar",
        "colab_type": "code",
        "colab": {}
      },
      "source": [
        "import pmdarima as pm"
      ],
      "execution_count": 0,
      "outputs": []
    },
    {
      "cell_type": "markdown",
      "metadata": {
        "id": "0Xk8cj3T26Oy",
        "colab_type": "text"
      },
      "source": [
        "Download and read COVID-19 global dataset from John Hopkins."
      ]
    },
    {
      "cell_type": "code",
      "metadata": {
        "id": "Qu3PgWIVXFC1",
        "colab_type": "code",
        "colab": {}
      },
      "source": [
        "covid=pd.read_csv('/content/sample_data/covid.csv')"
      ],
      "execution_count": 0,
      "outputs": []
    },
    {
      "cell_type": "markdown",
      "metadata": {
        "id": "qdLXh0ntlugo",
        "colab_type": "text"
      },
      "source": [
        "Extract the India data."
      ]
    },
    {
      "cell_type": "code",
      "metadata": {
        "id": "YCnQUjTVbgxI",
        "colab_type": "code",
        "colab": {}
      },
      "source": [
        "India=covid.iloc[131][4:92]"
      ],
      "execution_count": 0,
      "outputs": []
    },
    {
      "cell_type": "markdown",
      "metadata": {
        "id": "HdG6ZfPbl8l1",
        "colab_type": "text"
      },
      "source": [
        "Plot the India data."
      ]
    },
    {
      "cell_type": "code",
      "metadata": {
        "id": "9gJexk-5d_9I",
        "colab_type": "code",
        "colab": {}
      },
      "source": [
        "plt.plot(India)"
      ],
      "execution_count": 0,
      "outputs": []
    },
    {
      "cell_type": "markdown",
      "metadata": {
        "id": "8AaiI-N33W0E",
        "colab_type": "text"
      },
      "source": [
        "Import auto_arima."
      ]
    },
    {
      "cell_type": "code",
      "metadata": {
        "id": "mM7GJZbBJKzR",
        "colab_type": "code",
        "colab": {}
      },
      "source": [
        "from pmdarima import auto_arima"
      ],
      "execution_count": 0,
      "outputs": []
    },
    {
      "cell_type": "markdown",
      "metadata": {
        "id": "7GJ9hMqM3gjQ",
        "colab_type": "text"
      },
      "source": [
        "Plot the Auto Correlation Function (ACF) for the input data."
      ]
    },
    {
      "cell_type": "code",
      "metadata": {
        "id": "Ag9dPw4VNNy3",
        "colab_type": "code",
        "colab": {}
      },
      "source": [
        "pm.acf(India)"
      ],
      "execution_count": 0,
      "outputs": []
    },
    {
      "cell_type": "code",
      "metadata": {
        "id": "bFnwkUiINe9i",
        "colab_type": "code",
        "colab": {}
      },
      "source": [
        "pm.plot_acf(India)"
      ],
      "execution_count": 0,
      "outputs": []
    },
    {
      "cell_type": "markdown",
      "metadata": {
        "id": "kkE3VYxd4j9T",
        "colab_type": "text"
      },
      "source": [
        "Set up the model and train it on input data."
      ]
    },
    {
      "cell_type": "code",
      "metadata": {
        "id": "gHE4_ZlQPUJT",
        "colab_type": "code",
        "colab": {}
      },
      "source": [
        "model=auto_arima(India)"
      ],
      "execution_count": 0,
      "outputs": []
    },
    {
      "cell_type": "code",
      "metadata": {
        "id": "iW2ci68eQIcI",
        "colab_type": "code",
        "colab": {}
      },
      "source": [
        "model.fit(India)"
      ],
      "execution_count": 0,
      "outputs": []
    },
    {
      "cell_type": "code",
      "metadata": {
        "id": "c8Ey5IZcQTWL",
        "colab_type": "code",
        "colab": {}
      },
      "source": [
        "model.summary()"
      ],
      "execution_count": 0,
      "outputs": []
    },
    {
      "cell_type": "markdown",
      "metadata": {
        "id": "xbdflRH54s1g",
        "colab_type": "text"
      },
      "source": [
        "Make prediction of COVID-19 cases in India for next 7 days."
      ]
    },
    {
      "cell_type": "code",
      "metadata": {
        "id": "-ojqz4e2RIMf",
        "colab_type": "code",
        "colab": {}
      },
      "source": [
        "f=model.predict(n_periods=7)"
      ],
      "execution_count": 0,
      "outputs": []
    },
    {
      "cell_type": "code",
      "metadata": {
        "id": "RTSPrzXfSddy",
        "colab_type": "code",
        "colab": {}
      },
      "source": [
        "print(f)"
      ],
      "execution_count": 0,
      "outputs": []
    },
    {
      "cell_type": "markdown",
      "metadata": {
        "id": "3mT8qLEk45V9",
        "colab_type": "text"
      },
      "source": [
        "Concatenate input and predicted data and plot."
      ]
    },
    {
      "cell_type": "code",
      "metadata": {
        "id": "VOfJQrC7UAas",
        "colab_type": "code",
        "colab": {}
      },
      "source": [
        "z=pm.c(India,f)"
      ],
      "execution_count": 0,
      "outputs": []
    },
    {
      "cell_type": "code",
      "metadata": {
        "id": "vtFq3lXZUHLg",
        "colab_type": "code",
        "colab": {}
      },
      "source": [
        "plt.plot(z)"
      ],
      "execution_count": 0,
      "outputs": []
    }
  ]
}